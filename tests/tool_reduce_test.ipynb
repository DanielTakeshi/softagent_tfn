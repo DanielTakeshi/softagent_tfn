{
 "cells": [
  {
   "cell_type": "code",
   "execution_count": 87,
   "id": "45533134-06e9-4f26-8b42-e7c2b7868227",
   "metadata": {},
   "outputs": [],
   "source": [
    "import pickle\n",
    "from softgym.softgym.utils import visualization\n",
    "from torch_geometric.nn import fps\n",
    "import os\n",
    "import torch\n",
    "import numpy as np\n",
    "from pyquaternion import Quaternion"
   ]
  },
  {
   "cell_type": "code",
   "execution_count": 4,
   "id": "be2bd76c-4089-4fc0-86dc-a1729f99ba28",
   "metadata": {},
   "outputs": [],
   "source": [
    "DATA_DIR = \"/data/seita/softgym_mm/data_demo/MMOneSphere_v01_BClone_filtered_ladle_algorithmic_v04_nVars_2000_obs_combo_act_translation_axis_angle\""
   ]
  },
  {
   "cell_type": "code",
   "execution_count": 8,
   "id": "9a3db0d9-424d-44e0-ad01-e58a82d6f5bc",
   "metadata": {},
   "outputs": [],
   "source": [
    "with open(os.path.join(DATA_DIR, \"BC_0000_100.pkl\"), 'rb') as f:\n",
    "    data = pickle.load(f)"
   ]
  },
  {
   "cell_type": "code",
   "execution_count": 21,
   "id": "f171c4f8-889f-4f0e-8530-ac6fac787466",
   "metadata": {},
   "outputs": [],
   "source": [
    "obs_p = [data['obs'][0][3]]"
   ]
  },
  {
   "cell_type": "code",
   "execution_count": 22,
   "id": "e71f063b-f126-496c-8f63-ddbac7a9fd33",
   "metadata": {},
   "outputs": [
    {
     "name": "stdout",
     "output_type": "stream",
     "text": [
      "MoviePy - Building file ./point_cloud_segm.gif with imageio.\n"
     ]
    },
    {
     "name": "stderr",
     "output_type": "stream",
     "text": [
      "                                                  \r"
     ]
    }
   ],
   "source": [
    "visualization.save_pointclouds(obs_p, savedir='.')"
   ]
  },
  {
   "cell_type": "code",
   "execution_count": 45,
   "id": "68b29fa7-c735-4846-819a-80817509c4b4",
   "metadata": {},
   "outputs": [],
   "source": [
    "pcl = obs_p[0]\n",
    "\n",
    "i_tool = np.where(pcl[:,3] > 0)[0]\n",
    "tool_pts = pcl[i_tool]"
   ]
  },
  {
   "cell_type": "code",
   "execution_count": 46,
   "id": "48151410-912d-4104-9565-10235b8c5f89",
   "metadata": {},
   "outputs": [],
   "source": [
    "tool_pts = torch.from_numpy(tool_pts)"
   ]
  },
  {
   "cell_type": "code",
   "execution_count": 59,
   "id": "446e7d3b-1d4d-416b-bcd9-6a4d854d7ff4",
   "metadata": {},
   "outputs": [],
   "source": [
    "sampled_tool_idxs = fps(tool_pts[:, :3], ratio=0.05, random_start=False)"
   ]
  },
  {
   "cell_type": "code",
   "execution_count": 60,
   "id": "64f411eb-2fdf-44b0-b45a-4fbbf467996b",
   "metadata": {},
   "outputs": [],
   "source": [
    "sampled_tool_pts = tool_pts[sampled_tool_idxs]"
   ]
  },
  {
   "cell_type": "code",
   "execution_count": 61,
   "id": "fb50a4b7-ff9d-4c7e-aed4-c8219b71fe8e",
   "metadata": {},
   "outputs": [
    {
     "name": "stdout",
     "output_type": "stream",
     "text": [
      "MoviePy - Building file ./point_cloud_segm.gif with imageio.\n"
     ]
    },
    {
     "name": "stderr",
     "output_type": "stream",
     "text": [
      "                                                  \r"
     ]
    }
   ],
   "source": [
    "visualization.save_pointclouds([sampled_tool_pts], savedir='.')"
   ]
  },
  {
   "cell_type": "code",
   "execution_count": 66,
   "id": "f88ba691-8b9b-4cee-9474-ffac6b4f376c",
   "metadata": {},
   "outputs": [],
   "source": [
    "tool_tip_pos = data['obs'][0][0][:3]"
   ]
  },
  {
   "cell_type": "code",
   "execution_count": 73,
   "id": "cd293673-4a7c-44b5-9a6b-0c4f7b4ba7d9",
   "metadata": {},
   "outputs": [
    {
     "data": {
      "text/plain": [
       "array([-0.00986772,  0.54506862, -0.07499563])"
      ]
     },
     "execution_count": 73,
     "metadata": {},
     "output_type": "execute_result"
    }
   ],
   "source": [
    "tool_tip_pos"
   ]
  },
  {
   "cell_type": "code",
   "execution_count": 70,
   "id": "1e0d9a18-8411-4358-abe8-44e7b0b36666",
   "metadata": {},
   "outputs": [],
   "source": [
    "gt_tool_pts = sampled_tool_pts[:, :3] - tool_tip_pos"
   ]
  },
  {
   "cell_type": "code",
   "execution_count": 71,
   "id": "48270c87-7b5d-4f0b-bf75-76f661fdae45",
   "metadata": {},
   "outputs": [
    {
     "data": {
      "text/plain": [
       "tensor([-0.0045, -0.0117, -0.0070], dtype=torch.float64)"
      ]
     },
     "execution_count": 71,
     "metadata": {},
     "output_type": "execute_result"
    }
   ],
   "source": [
    "gt_tool_pts[0]"
   ]
  },
  {
   "cell_type": "code",
   "execution_count": 74,
   "id": "b4f93391-559d-441e-8c8b-cf263871f903",
   "metadata": {},
   "outputs": [],
   "source": [
    "with open('100_tool_pts.pkl', 'wb') as f:\n",
    "    pickle.dump(gt_tool_pts, f)"
   ]
  },
  {
   "cell_type": "code",
   "execution_count": 75,
   "id": "deb4f8ad-b89a-4d80-8583-37ca6b83da5a",
   "metadata": {},
   "outputs": [],
   "source": [
    "all_gt_tool_pts = sampled_tool_pts\n",
    "all_gt_tool_pts[:, :3] -= tool_tip_pos"
   ]
  },
  {
   "cell_type": "code",
   "execution_count": 76,
   "id": "795096bb-95b4-4afc-b609-255ba841ae7e",
   "metadata": {},
   "outputs": [
    {
     "name": "stdout",
     "output_type": "stream",
     "text": [
      "MoviePy - Building file ./point_cloud_segm.gif with imageio.\n"
     ]
    },
    {
     "name": "stderr",
     "output_type": "stream",
     "text": [
      "                                                  \r"
     ]
    }
   ],
   "source": [
    "visualization.save_pointclouds([all_gt_tool_pts], savedir='.')"
   ]
  },
  {
   "cell_type": "code",
   "execution_count": 82,
   "id": "deb1bc32-fa0a-4e8c-a9b5-e06fea6c086b",
   "metadata": {},
   "outputs": [
    {
     "data": {
      "text/plain": [
       "tensor(0.1027, dtype=torch.float64)"
      ]
     },
     "execution_count": 82,
     "metadata": {},
     "output_type": "execute_result"
    }
   ],
   "source": [
    "max(gt_tool_pts[1])"
   ]
  },
  {
   "cell_type": "code",
   "execution_count": 92,
   "id": "6a3997c5-f96f-42d2-b650-bff12117f8fb",
   "metadata": {},
   "outputs": [],
   "source": [
    "class MixedMediaToolReducer:\n",
    "    TOOL_DATA_PATH = \"bc/100_tool_pts.pkl\"\n",
    "    ACTION_LOW  = np.array([ 0, 0, 0, -1, -1, -1])\n",
    "    ACTION_HIGH = np.array([ 0, 0, 0,  1,  1,  1])\n",
    "    DEG_TO_RAD = np.pi / 180.\n",
    "    MAX_ROT_AXIS_ANG = (10. * DEG_TO_RAD)\n",
    "\n",
    "    def __init__(self, args, action_repeat):\n",
    "        assert args.reduce_tool_points\n",
    "        self.tool_point_num = args.tool_point_num\n",
    "        self.action_repeat = action_repeat\n",
    "\n",
    "        self.MAX_ROT_AXIS_ANG /= action_repeat\n",
    "\n",
    "        with open(self.TOOL_DATA_PATH, 'rb') as f:\n",
    "            self.all_tool_points = pickle.load(f)\n",
    "\n",
    "        # Sample tool points\n",
    "        ratio = self.tool_point_num / 100\n",
    "        sampled_idxs = fps(self.all_tool_points, ratio=ratio, random_start=False)\n",
    "        self.tool_points = self.all_tool_points[sampled_idxs].detach().numpy()\n",
    "\n",
    "        self.rotation = Quaternion()\n",
    "\n",
    "        # Prep tool points for rotation\n",
    "        self.vec_mat = np.zeros((self.tool_point_num, 4, 4), dtype=self.tool_points.dtype)\n",
    "        self.vec_mat[:, 0, 1] = -self.tool_points[:, 0]\n",
    "        self.vec_mat[:, 0, 2] = -self.tool_points[:, 1]\n",
    "        self.vec_mat[:, 0, 3] = -self.tool_points[:, 2]\n",
    "\n",
    "        self.vec_mat[:, 1, 0] = self.tool_points[:, 0]\n",
    "        self.vec_mat[:, 1, 2] = -self.tool_points[:, 2]\n",
    "        self.vec_mat[:, 1, 3] = self.tool_points[:, 1]\n",
    "\n",
    "        self.vec_mat[:, 2, 0] = self.tool_points[:, 1]\n",
    "        self.vec_mat[:, 2, 1] = self.tool_points[:, 2]\n",
    "        self.vec_mat[:, 2, 3] = -self.tool_points[:, 0]\n",
    "\n",
    "        self.vec_mat[:, 3, 0] = self.tool_points[:, 2]\n",
    "        self.vec_mat[:, 3, 1] = -self.tool_points[:, 1]\n",
    "        self.vec_mat[:, 3, 2] = self.tool_points[:, 0]\n",
    "\n",
    "    def reset(self):\n",
    "        self.rotation = Quaternion()\n",
    "\n",
    "    def set_axis(self, axis):\n",
    "        self.rotation = Quaternion(w=axis[3], x=axis[0], y=axis[1], z=axis[2])\n",
    "\n",
    "    def step(self, act_raw):\n",
    "        # act_raw: [x, y, z, rx, ry, rz]\n",
    "        act_clip = np.clip(act_raw, a_min=self.ACTION_LOW, a_max=self.ACTION_HIGH)\n",
    "        axis = act_clip[3:]\n",
    "\n",
    "        dtheta = np.linalg.norm(act_clip[3:])\n",
    "        if dtheta > self.MAX_ROT_AXIS_ANG:\n",
    "            dtheta = dtheta * self.MAX_ROT_AXIS_ANG / np.sqrt(3)\n",
    "        \n",
    "        if dtheta == 0:\n",
    "            axis = np.array([0., -1., 0.])\n",
    "\n",
    "        axis = axis / np.linalg.norm(axis)\n",
    "\n",
    "        for i in range(self.action_repeat):\n",
    "            axis_world = self.rotation.rotate(axis)\n",
    "            qt_rotate = Quaternion(axis=axis_world, angle=dtheta)\n",
    "            self.rotation = qt_rotate * self.rotation\n",
    "\n",
    "    def reduce_tool(self, obs, info):\n",
    "        tool_idxs = np.where(obs[:, 3] == 1)[0]\n",
    "        obs_notool = obs[len(tool_idxs):]\n",
    "\n",
    "        tool_tip_pos = info[:3]\n",
    "\n",
    "        # Rotate tool points\n",
    "        global_rotation = self.rotation\n",
    "        global_rotation._normalise()\n",
    "        dqp = global_rotation.conjugate.q\n",
    "\n",
    "        mid = np.matmul(self.vec_mat, dqp)\n",
    "        mid = np.expand_dims(mid, axis=-1)\n",
    "\n",
    "        rotated_tool_pts = global_rotation._q_matrix() @ mid\n",
    "        rotated_tool_pts = rotated_tool_pts[:, 1:, 0]\n",
    "\n",
    "        rotated_tool_pts += tool_tip_pos\n",
    "\n",
    "        num_classes = obs.shape[1] - 3\n",
    "        tool_onehot = np.zeros((self.tool_point_num, num_classes), dtype=obs.dtype)\n",
    "        tool_onehot[:, 0] = 1\n",
    "\n",
    "        tool_reduced = np.concatenate((rotated_tool_pts, tool_onehot), axis=1)\n",
    "        return np.concatenate((tool_reduced, obs_notool), axis=0)"
   ]
  },
  {
   "cell_type": "code",
   "execution_count": 98,
   "id": "2f4390a7-b05b-49ee-95b5-b49534a12dda",
   "metadata": {},
   "outputs": [],
   "source": [
    "class Args:\n",
    "    reduce_tool_points = True\n",
    "    tool_point_num = 20\n",
    "    \n",
    "args = Args()"
   ]
  },
  {
   "cell_type": "code",
   "execution_count": 99,
   "id": "23529944-66e7-4c03-aa0d-ff42fb27898b",
   "metadata": {},
   "outputs": [],
   "source": [
    "num_obs = len(data['obs']) - 1\n",
    "\n",
    "raw_obs_p = []\n",
    "reduced_obs_p = []\n",
    "\n",
    "tool_reducer = MixedMediaToolReducer(args=args, action_repeat=8)\n",
    "tool_reducer.reset()\n",
    "\n",
    "for t in range(num_obs):\n",
    "    obs = data['obs'][t]\n",
    "    raw_obs_p.append(obs[3])\n",
    "    reduced_obs = tool_reducer.reduce_tool(obs[3], info=obs[0])\n",
    "    reduced_obs_p.append(reduced_obs)\n",
    "    tool_reducer.step(data['act_raw'][t])"
   ]
  },
  {
   "cell_type": "code",
   "execution_count": 100,
   "id": "7278da5e-e342-4e4c-9b33-03f472216f2e",
   "metadata": {},
   "outputs": [
    {
     "name": "stdout",
     "output_type": "stream",
     "text": [
      "MoviePy - Building file ./raw.gif with imageio.\n"
     ]
    },
    {
     "name": "stderr",
     "output_type": "stream",
     "text": [
      "                                                            \r"
     ]
    },
    {
     "name": "stdout",
     "output_type": "stream",
     "text": [
      "MoviePy - Building file ./reduced.gif with imageio.\n"
     ]
    },
    {
     "name": "stderr",
     "output_type": "stream",
     "text": [
      "                                                            \r"
     ]
    }
   ],
   "source": [
    "visualization.save_pointclouds(raw_obs_p, savedir='.', suffix=\"raw.gif\")\n",
    "visualization.save_pointclouds(reduced_obs_p, savedir='.', suffix=\"reduced.gif\")"
   ]
  },
  {
   "cell_type": "code",
   "execution_count": null,
   "id": "5a1af452-1853-4d4b-bf1f-7c8d7d06a42f",
   "metadata": {},
   "outputs": [],
   "source": []
  }
 ],
 "metadata": {
  "kernelspec": {
   "display_name": "softgym",
   "language": "python",
   "name": "softgym"
  },
  "language_info": {
   "codemirror_mode": {
    "name": "ipython",
    "version": 3
   },
   "file_extension": ".py",
   "mimetype": "text/x-python",
   "name": "python",
   "nbconvert_exporter": "python",
   "pygments_lexer": "ipython3",
   "version": "3.6.13"
  }
 },
 "nbformat": 4,
 "nbformat_minor": 5
}
