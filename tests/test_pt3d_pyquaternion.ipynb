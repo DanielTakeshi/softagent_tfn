{
 "cells": [
  {
   "cell_type": "code",
   "execution_count": 53,
   "id": "6b71c9f3-5edc-458d-9957-e74c7e0fd786",
   "metadata": {},
   "outputs": [],
   "source": [
    "import math\n",
    "import numpy as np\n",
    "import torch\n",
    "from pyquaternion import Quaternion\n",
    "from pytorch3d.transforms import matrix_to_quaternion, quaternion_to_axis_angle, axis_angle_to_matrix, Rotate\n",
    "\n",
    "from bc.se3 import flow2pose"
   ]
  },
  {
   "cell_type": "code",
   "execution_count": 25,
   "id": "39b8afcb-f566-48e4-bf53-5dfe69706ac3",
   "metadata": {},
   "outputs": [],
   "source": [
    "axis = [0, math.sqrt(2) / 2, math.sqrt(2) / 2]\n",
    "angle = math.pi / 2"
   ]
  },
  {
   "cell_type": "code",
   "execution_count": 26,
   "id": "047facaf-c0e6-4e36-9150-fcdb27cf862a",
   "metadata": {},
   "outputs": [],
   "source": [
    "quat = Quaternion(axis=axis, angle=angle)\n",
    "points = np.vstack(np.meshgrid(np.linspace(-1, 1, 10), np.linspace(-1, 1, 10), np.linspace(-1, 1, 10))).reshape(3, -1).T"
   ]
  },
  {
   "cell_type": "code",
   "execution_count": 27,
   "id": "fc97695c-75d9-42fb-94a1-7ba7ec108712",
   "metadata": {},
   "outputs": [
    {
     "data": {
      "text/plain": [
       "array([[ 1.11022302e-16, -7.07106781e-01,  7.07106781e-01],\n",
       "       [ 7.07106781e-01,  5.00000000e-01,  5.00000000e-01],\n",
       "       [-7.07106781e-01,  5.00000000e-01,  5.00000000e-01]])"
      ]
     },
     "execution_count": 27,
     "metadata": {},
     "output_type": "execute_result"
    }
   ],
   "source": [
    "quat.rotation_matrix"
   ]
  },
  {
   "cell_type": "code",
   "execution_count": 28,
   "id": "e17fedfa-08a3-44e2-b374-7760749d15dc",
   "metadata": {},
   "outputs": [],
   "source": [
    "flow = np.zeros_like(points)\n",
    "for i in range(points.shape[0]):\n",
    "    pt = points[i]\n",
    "    rot = quat.rotate(pt)\n",
    "    flow[i] += rot - pt\n",
    "\n",
    "points = torch.from_numpy(points.astype(np.float32))\n",
    "flow = torch.from_numpy(flow.astype(np.float32))"
   ]
  },
  {
   "cell_type": "code",
   "execution_count": 29,
   "id": "be73a4a7-51ab-41e2-ab79-10341a332637",
   "metadata": {},
   "outputs": [],
   "source": [
    "trfm = flow2pose(\n",
    "    xyz=points[None, :],\n",
    "    flow=flow[None, :],\n",
    "    weights=None,\n",
    "    return_transform3d=True,\n",
    "    return_quaternions=False,\n",
    ")"
   ]
  },
  {
   "cell_type": "code",
   "execution_count": 30,
   "id": "f43a6f21-b47a-471d-9736-b8d7d477b56a",
   "metadata": {},
   "outputs": [
    {
     "data": {
      "text/plain": [
       "True"
      ]
     },
     "execution_count": 30,
     "metadata": {},
     "output_type": "execute_result"
    }
   ],
   "source": [
    "pred_flow = trfm.transform_points(points).squeeze(0) - points\n",
    "torch.allclose(flow, pred_flow, atol=1e-4)"
   ]
  },
  {
   "cell_type": "code",
   "execution_count": 31,
   "id": "90a38c7b-70c2-4b68-941b-8d9a09ceee16",
   "metadata": {},
   "outputs": [],
   "source": [
    "rot_matrices, trans = flow2pose(\n",
    "    xyz=points[None, :],\n",
    "    flow=flow[None, :],\n",
    "    weights=None,\n",
    "    return_transform3d=False,\n",
    "    return_quaternions=False,\n",
    "    world_frameify=False,\n",
    ")"
   ]
  },
  {
   "cell_type": "code",
   "execution_count": 32,
   "id": "41559b3c-c7f6-4823-9ca4-557c4fe92d5d",
   "metadata": {},
   "outputs": [
    {
     "data": {
      "text/plain": [
       "tensor([[[ 0.0000,  0.7071, -0.7071],\n",
       "         [-0.7071,  0.5000,  0.5000],\n",
       "         [ 0.7071,  0.5000,  0.5000]]])"
      ]
     },
     "execution_count": 32,
     "metadata": {},
     "output_type": "execute_result"
    }
   ],
   "source": [
    "rot_matrices"
   ]
  },
  {
   "cell_type": "code",
   "execution_count": 33,
   "id": "afffab03-032b-4625-9687-f8838c804a78",
   "metadata": {},
   "outputs": [],
   "source": [
    "quats = matrix_to_quaternion(matrix=rot_matrices.transpose(1, 2))\n",
    "axis_ang = quaternion_to_axis_angle(quaternions=quats)"
   ]
  },
  {
   "cell_type": "code",
   "execution_count": 34,
   "id": "6ab53033-a75a-4d6b-96b4-33801c3bb8a5",
   "metadata": {},
   "outputs": [],
   "source": [
    "pred_axis = axis_ang / torch.linalg.norm(axis_ang)\n",
    "pred_angle = torch.linalg.norm(axis_ang)"
   ]
  },
  {
   "cell_type": "code",
   "execution_count": 35,
   "id": "a2d19df3-9599-40f9-82ef-9725d2cbcad4",
   "metadata": {},
   "outputs": [
    {
     "name": "stdout",
     "output_type": "stream",
     "text": [
      "tensor([[5.9605e-08, 7.0711e-01, 7.0711e-01]])\n",
      "tensor(1.5708)\n"
     ]
    }
   ],
   "source": [
    "print(pred_axis)\n",
    "print(pred_angle)"
   ]
  },
  {
   "cell_type": "code",
   "execution_count": 36,
   "id": "c0663f71-3027-4a00-b205-69a1db9d5dbe",
   "metadata": {},
   "outputs": [
    {
     "data": {
      "text/plain": [
       "True"
      ]
     },
     "execution_count": 36,
     "metadata": {},
     "output_type": "execute_result"
    }
   ],
   "source": [
    "pred_flow = torch.bmm(points.unsqueeze(0), rot_matrices).squeeze(0) - points\n",
    "torch.allclose(flow, pred_flow, atol=1e-4)"
   ]
  },
  {
   "cell_type": "code",
   "execution_count": 37,
   "id": "130c57bd-20e5-4676-84dc-5f1c34e85972",
   "metadata": {},
   "outputs": [
    {
     "data": {
      "text/plain": [
       "torch.Size([1, 3])"
      ]
     },
     "execution_count": 37,
     "metadata": {},
     "output_type": "execute_result"
    }
   ],
   "source": [
    "trans.shape"
   ]
  },
  {
   "cell_type": "code",
   "execution_count": 38,
   "id": "80180df0-a846-405b-9220-b9970295fa3e",
   "metadata": {},
   "outputs": [
    {
     "data": {
      "text/plain": [
       "torch.Size([1, 3])"
      ]
     },
     "execution_count": 38,
     "metadata": {},
     "output_type": "execute_result"
    }
   ],
   "source": [
    "torch.mean(flow, axis=0, keepdims=True).shape"
   ]
  },
  {
   "cell_type": "markdown",
   "id": "44c2d7d4-a27a-47d4-b5c2-42fb77450855",
   "metadata": {},
   "source": [
    "Dense Trfm Testing\n",
    "=================="
   ]
  },
  {
   "cell_type": "code",
   "execution_count": 61,
   "id": "8a1ac814-eae4-4705-8a57-9596466b4e1c",
   "metadata": {},
   "outputs": [],
   "source": [
    "axis_ang = torch.tensor([axis]) * angle\n",
    "rot_matrix = axis_angle_to_matrix(axis_ang).transpose(1, 2)"
   ]
  },
  {
   "cell_type": "code",
   "execution_count": 62,
   "id": "3d854473-c848-4b67-b553-3b48f624b53a",
   "metadata": {},
   "outputs": [
    {
     "data": {
      "text/plain": [
       "True"
      ]
     },
     "execution_count": 62,
     "metadata": {},
     "output_type": "execute_result"
    }
   ],
   "source": [
    "pred_flow = torch.bmm(points.unsqueeze(0), rot_matrix).squeeze(0) - points\n",
    "torch.allclose(flow, pred_flow, atol=1e-4)"
   ]
  },
  {
   "cell_type": "code",
   "execution_count": 63,
   "id": "da168b0b-5e14-4794-be24-9b32ea0ed47e",
   "metadata": {},
   "outputs": [
    {
     "data": {
      "text/plain": [
       "True"
      ]
     },
     "execution_count": 63,
     "metadata": {},
     "output_type": "execute_result"
    }
   ],
   "source": [
    "trfm = Rotate(rot_matrix)\n",
    "pred_flow = trfm.transform_points(points).squeeze(0) - points\n",
    "torch.allclose(flow, pred_flow, atol=1e-4)"
   ]
  },
  {
   "cell_type": "code",
   "execution_count": null,
   "id": "6c0bc3e3-e16c-4522-8521-5918f457c0ab",
   "metadata": {},
   "outputs": [],
   "source": []
  }
 ],
 "metadata": {
  "kernelspec": {
   "display_name": "softgym",
   "language": "python",
   "name": "softgym"
  },
  "language_info": {
   "codemirror_mode": {
    "name": "ipython",
    "version": 3
   },
   "file_extension": ".py",
   "mimetype": "text/x-python",
   "name": "python",
   "nbconvert_exporter": "python",
   "pygments_lexer": "ipython3",
   "version": "3.6.13"
  }
 },
 "nbformat": 4,
 "nbformat_minor": 5
}
